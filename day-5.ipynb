{
  "nbformat": 4,
  "nbformat_minor": 0,
  "metadata": {
    "colab": {
      "provenance": [],
      "authorship_tag": "ABX9TyMOEJlF8haOlwLdpwUUxjoV",
      "include_colab_link": true
    },
    "kernelspec": {
      "name": "python3",
      "display_name": "Python 3"
    },
    "language_info": {
      "name": "python"
    }
  },
  "cells": [
    {
      "cell_type": "markdown",
      "metadata": {
        "id": "view-in-github",
        "colab_type": "text"
      },
      "source": [
        "<a href=\"https://colab.research.google.com/github/rog143/DA/blob/main/day-5.ipynb\" target=\"_parent\"><img src=\"https://colab.research.google.com/assets/colab-badge.svg\" alt=\"Open In Colab\"/></a>"
      ]
    },
    {
      "cell_type": "code",
      "execution_count": 10,
      "metadata": {
        "colab": {
          "base_uri": "https://localhost:8080/"
        },
        "id": "50j_FdYc7rRy",
        "outputId": "2ab5f8e7-bc8f-4922-9842-b17661b76fa1"
      },
      "outputs": [
        {
          "output_type": "stream",
          "name": "stdout",
          "text": [
            "50\n",
            "[0, 2, 4, 6, 8, 10, 12, 14, 16, 18, 20, 22, 24, 26, 28, 30, 32, 34, 36, 38, 40, 42, 44, 46, 48]\n",
            "600\n"
          ]
        }
      ],
      "source": [
        "#Write a Python program to calculate the sum of all even numbers between 1 and a given positive integer n\n",
        "a =int(input())\n",
        "b=[]\n",
        "for i in range(0,a):\n",
        "  if i%2==0:\n",
        "    b.append(i)\n",
        "print(b)\n",
        "import builtins\n",
        "c=builtins.sum(b)\n",
        "print(c)\n"
      ]
    },
    {
      "cell_type": "code",
      "source": [],
      "metadata": {
        "id": "Lh1CSD-2BHFZ"
      },
      "execution_count": null,
      "outputs": []
    }
  ]
}